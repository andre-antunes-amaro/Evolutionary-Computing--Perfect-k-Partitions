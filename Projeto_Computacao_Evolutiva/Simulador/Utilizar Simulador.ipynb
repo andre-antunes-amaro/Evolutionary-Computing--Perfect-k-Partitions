{
 "cells": [
  {
   "cell_type": "code",
   "execution_count": 2,
   "id": "6f27ef61",
   "metadata": {},
   "outputs": [
    {
     "name": "stdout",
     "output_type": "stream",
     "text": [
      "Resultado Final (Exato):  [[14175, 15055, 18072, 23320, 23717, 28725, 29127, 32257, 40020, 43155, 56734, 57176, 66042, 69189, 72936, 74287, 74537, 81942, 82027, 97507], [16616, 17495, 19390, 19731, 22161, 26343, 41867, 46298, 58306, 61848, 65825, 68634, 82623, 82802, 82988, 90467, 97042, 99564]]\n"
     ]
    }
   ],
   "source": [
    "from main import simulador\n",
    "\n",
    "\n",
    "X=[14175, 15055, 16616, 17495, 18072, 19390, 19731, 22161, 23320, 23717,\n",
    "26343, 28725, 29127, 32257, 40020, 41867, 43155, 46298, 56734, 57176, 58306,\n",
    "61848, 65825, 66042, 68634, 69189, 72936, 74287, 74537, 81942, 82027, 82623,\n",
    "82802, 82988, 90467, 97042, 97507, 99564]\n",
    "\n",
    "k=2\n",
    "TFim=1000\n",
    "TMorte = 40\n",
    "TMut = 10\n",
    "TRep = 4\n",
    "NInd= 100\n",
    "\n",
    "simulador(X,k,TFim,TMorte,TMut,TRep,NInd)"
   ]
  }
 ],
 "metadata": {
  "kernelspec": {
   "display_name": "Python 3 (ipykernel)",
   "language": "python",
   "name": "python3"
  },
  "language_info": {
   "codemirror_mode": {
    "name": "ipython",
    "version": 3
   },
   "file_extension": ".py",
   "mimetype": "text/x-python",
   "name": "python",
   "nbconvert_exporter": "python",
   "pygments_lexer": "ipython3",
   "version": "3.9.12"
  }
 },
 "nbformat": 4,
 "nbformat_minor": 5
}
